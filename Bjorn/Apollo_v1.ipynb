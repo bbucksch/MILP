{
 "cells": [
  {
   "cell_type": "code",
   "metadata": {
    "ExecuteTime": {
     "end_time": "2025-02-18T17:29:54.462441Z",
     "start_time": "2025-02-18T17:29:54.374723Z"
    }
   },
   "source": [
    "import gurobipy as gp\n",
    "from gurobipy import GRB\n",
    "import numpy as np\n",
    "from tqdm import tqdm"
   ],
   "outputs": [],
   "execution_count": 2
  },
  {
   "cell_type": "code",
   "metadata": {
    "ExecuteTime": {
     "end_time": "2025-02-18T17:29:55.326945Z",
     "start_time": "2025-02-18T17:29:55.308898Z"
    }
   },
   "source": [
    "# Create Model\n",
    "m = gp.Model(\"Model_1\")"
   ],
   "outputs": [
    {
     "name": "stdout",
     "output_type": "stream",
     "text": [
      "Set parameter Username\n",
      "Set parameter LicenseID to value 2595554\n",
      "Academic license - for non-commercial use only - expires 2025-12-04\n"
     ]
    }
   ],
   "execution_count": 3
  },
  {
   "cell_type": "code",
   "metadata": {
    "ExecuteTime": {
     "end_time": "2025-02-18T17:29:56.183878Z",
     "start_time": "2025-02-18T17:29:56.179934Z"
    }
   },
   "source": [
    "# GENERAL PARAMETERS\n",
    "\n",
    "# Number of vehicle types\n",
    "V = 6\n",
    "\n",
    "# Number of nodes i,j\n",
    "nodes = 4\n",
    "\n",
    "# I, J = nodes, nodes\n",
    "arcs = {i: [j for j in range(nodes) if abs(i - j) <= 1] for i in range(nodes)}\n",
    "\n",
    "# Time Steps (days)\n",
    "T = 11\n",
    "\n",
    "# Commodity variable types\n",
    "X = [GRB.INTEGER, GRB.CONTINUOUS, GRB.CONTINUOUS, GRB.CONTINUOUS, GRB.CONTINUOUS]\n",
    "# Crew, consumables, equipment, samples, propellant\n",
    "\n",
    "Y = GRB.INTEGER\n",
    "# Spacecrafts of same type"
   ],
   "outputs": [],
   "execution_count": 4
  },
  {
   "metadata": {
    "ExecuteTime": {
     "end_time": "2025-02-18T17:29:57.436304Z",
     "start_time": "2025-02-18T17:29:57.433100Z"
    }
   },
   "cell_type": "code",
   "source": [
    "# ASSUMPTIONS\n",
    "\n",
    "# Consumption rates [kg/crew/day]\n",
    "food_consumption = 1.015\n",
    "water_consumption = 6.37\n",
    "oxygen_consumption = 1.18\n",
    "consumption = food_consumption + water_consumption + oxygen_consumption\n",
    "\n",
    "# Crew mass [kg/crew]\n",
    "crew_mass = 100\n",
    "\n",
    "# Gravitational acceleration [m/sˆ2]\n",
    "g_0 = 9.8\n"
   ],
   "outputs": [],
   "execution_count": 5
  },
  {
   "metadata": {
    "ExecuteTime": {
     "end_time": "2025-02-18T17:29:58.181340Z",
     "start_time": "2025-02-18T17:29:58.178044Z"
    }
   },
   "cell_type": "code",
   "source": [
    "# VEHICLE DATA\n",
    "\n",
    "# Structure mass [kg]\n",
    "s = np.array([38415, 12014, 4841, 6053, 2770, 1719])\n",
    "\n",
    "# Specific impulses [s]\n",
    "I_sp = np.array([421, 421, 0, 314, 311, 311])\n",
    "\n",
    "# Payload Capacity [kg]\n",
    "C = np.array([0, 0, 524, 60, 500, 250])\n",
    "\n",
    "# Propellant Capacity [kg]\n",
    "M = np.array([452045, 107725, 0, 18413, 8804, 2358])\n"
   ],
   "outputs": [],
   "execution_count": 6
  },
  {
   "metadata": {
    "ExecuteTime": {
     "end_time": "2025-02-18T17:29:59.820412Z",
     "start_time": "2025-02-18T17:29:59.816096Z"
    }
   },
   "cell_type": "code",
   "source": [
    "# DISPLACEMENT DATA\n",
    "\n",
    "# Velocity change [km/s]\n",
    "# PAC, LEO, LLO, LS are 0, 1, 2, 3\n",
    "delta_V = {0: {0: 0, 1: 0}, 1: {0: 0, 1: 0, 2: 4.04}, 2: {1: 4.04, 2: 0, 3: 1.87}, 3: {2: 1.87, 3: 0}}\n",
    "\n",
    "# Time of fare [days]\n",
    "TOF = {0: {0: 1, 1: 1}, 1: {0: 1, 1: 1, 2: 3}, 2: {1: 3, 2: 1, 3: 1}, 3: {2: 1, 3: 1}}\n",
    "\n",
    "# Propellant mass fraction\n",
    "phi = [[{j: 1 - np.exp(-(delta_V[i][j] / (I_sp[v] * g_0))) if I_sp[v] != 0 else 1 for j in arcs[i]}\n",
    "        for i in arcs]\n",
    "       for v in range(V)]\n"
   ],
   "outputs": [],
   "execution_count": 7
  },
  {
   "metadata": {
    "ExecuteTime": {
     "end_time": "2025-02-18T17:30:01.069668Z",
     "start_time": "2025-02-18T17:30:01.036562Z"
    }
   },
   "cell_type": "code",
   "source": [
    "# CREATE COMMODITY FLOW VECTORS AND S/C COMMODITY FLOW\n",
    "\n",
    "def create_commodity_flow(model, V, arcs, T, X, direction):\n",
    "    x_flow = [[{j: [np.array([[model.addVar(vtype=X[x], name=f'commodity_{direction}flow_{v},{i},{j},{t},{x}')]\n",
    "                              for x in range(len(X))])\n",
    "                    for t in range(T)]\n",
    "                for j in arcs[i]}\n",
    "               for i in arcs]\n",
    "              for v in range(V)]\n",
    "\n",
    "    return x_flow\n",
    "\n",
    "\n",
    "def create_sc_commodity_flow(model, V, arcs, T, Y, direction):\n",
    "    y_flow = [\n",
    "        [{j: [np.array([model.addVar(vtype=Y, name=f'sc_commodity_{direction}flow_{v},{i},{j},{t}')]) for t in range(T)]\n",
    "          for j in arcs[i]}\n",
    "         for i in arcs]\n",
    "        for v in range(V)]\n",
    "\n",
    "    return y_flow\n",
    "\n",
    "# Outflow leaving from node i to j, inflow arriving at node j from i\n",
    "\n",
    "x_outflow, x_inflow = create_commodity_flow(m, V, arcs, T, X, \"out\"), create_commodity_flow(m, V, arcs, T, X, \"in\")\n",
    "y_outflow, y_inflow = create_sc_commodity_flow(m, V, arcs, T, Y, \"out\"), create_sc_commodity_flow(m, V, arcs, T, Y, \"in\")\n",
    "\n",
    "m.update()\n"
   ],
   "outputs": [],
   "execution_count": 8
  },
  {
   "cell_type": "code",
   "metadata": {},
   "source": [
    "# # Create commodity flow variables and add them to model\n",
    "# def create_add_commodity_flow(model, V=V, I=I, J=J, T=T):\n",
    "#     x_outflow, x_inflow = {}, {}\n",
    "#     for v, i, j, t in tqdm([(v, i, j, t) for v in range(V) for i in range(I) for j in range(J) for t in range(T)]):\n",
    "#         x_outflow[0, v, i, j, t] = model.addVar(vtype=GRB.INTEGER, name='commodity_outflow_crew')  # Different names??\n",
    "#         x_inflow[0, v, i, j, t] = model.addVar(vtype=GRB.INTEGER, name='commodity_inflow_crew')\n",
    "#     for v, i, j, t in tqdm([(v, i, j, t) for v in range(V) for i in range(I) for j in range(J) for t in range(T)]):\n",
    "#         x_outflow[1, v, i, j, t] = model.addVar(vtype=GRB.CONTINUOUS, name='commodity_outflow_equipment')\n",
    "#         x_inflow[1, v, i, j, t] = model.addVar(vtype=GRB.CONTINUOUS, name='commodity_inflow_equipment')\n",
    "#     for v, i, j, t in tqdm([(v, i, j, t) for v in range(V) for i in range(I) for j in range(J) for t in range(T)]):\n",
    "#         x_outflow[2, v, i, j, t] = model.addVar(vtype=GRB.CONTINUOUS, name='commodity_outflow_samples')\n",
    "#         x_inflow[2, v, i, j, t] = model.addVar(vtype=GRB.CONTINUOUS, name='commodity_inflow_samples')\n",
    "#     for v, i, j, t in tqdm([(v, i, j, t) for v in range(V) for i in range(I) for j in range(J) for t in range(T)]):\n",
    "#         x_outflow[3, v, i, j, t] = model.addVar(vtype=GRB.CONTINUOUS, name='commodity_outflow_consumables')\n",
    "#         x_inflow[3, v, i, j, t] = model.addVar(vtype=GRB.CONTINUOUS, name='commodity_inflow_consumables')\n",
    "#     for v, i, j, t in tqdm([(v, i, j, t) for v in range(V) for i in range(I) for j in range(J) for t in range(T)]):\n",
    "#         x_outflow[4, v, i, j, t] = model.addVar(vtype=GRB.CONTINUOUS, name='commodity_outflow_propellant')\n",
    "#         x_inflow[4, v, i, j, t] = model.addVar(vtype=GRB.CONTINUOUS, name='commodity_inflow_propellant')\n",
    "#     return x_outflow, x_inflow\n",
    "#\n",
    "#\n",
    "# x_outflow, x_inflow = create_add_commodity_flow(model=m)\n",
    "#\n",
    "#\n",
    "# # Create number of spacecraft flow variables and add them to model\n",
    "# def create_add_number_spacecraft_per_arc(model, V=V, I=I, J=J, T=T):\n",
    "#     y_outflow, y_inflow = {}, {}\n",
    "#     for v, i, j, t in tqdm([(v, i, j, t) for v in range(V) for i in range(I) for j in range(J) for t in range(T)]):\n",
    "#         y_outflow[v, i, j, t] = model.addVar(vtype=GRB.INTEGER, name=f\"spacecraft_ouflow_{v}{i}{j}{t}\")\n",
    "#         y_inflow[v, i, j, t] = model.addVar(vtype=GRB.INTEGER, name=f\"spacecraft_inflow_{v}{i}{j}{t}\")\n",
    "#     return y_outflow, y_inflow\n",
    "#\n",
    "#\n",
    "# y_outflow, y_inflow = create_add_number_spacecraft_per_arc(model=m)\n",
    "#\n",
    "# m.update()  #??"
   ],
   "outputs": [],
   "execution_count": null
  },
  {
   "metadata": {
    "ExecuteTime": {
     "end_time": "2025-02-18T17:30:04.722459Z",
     "start_time": "2025-02-18T17:30:04.717852Z"
    }
   },
   "cell_type": "code",
   "source": [
    "# CONSTRAINTS 4\n",
    "\n",
    "# Commodity transformation matrix\n",
    "# Q[x+, y+] = [x-, y-] --> Difference between what leaves from node i and what arrives at node j. Ex. propellant use\n",
    "# x = Crew, consumables, equipment, samples, propellant\n",
    "\n",
    "def create_commodity_transformation(V, arcs, consumption, crew_mass, phi, TOF):\n",
    "    Q = [[{j: np.array([[1, 0, 0, 0, 0, 0],\n",
    "                        [-consumption * TOF[i][j], 1, 0, 0, 0, 0], # Consumable consumption\n",
    "                        [0, 0, 1, 0, 0, 0],\n",
    "                        [0, 0, 0, 1, 0, 0],\n",
    "                        [crew_mass * -phi[v][i][j], -phi[v][i][j], -phi[v][i][j], -phi[v][i][j], 1 - phi[v][i][j], -phi[v][i][j]], # Propellant consumption\n",
    "                        [0, 0, 0, 0, 0, 1]])\n",
    "           for j in arcs[i]}\n",
    "          for i in arcs]\n",
    "         for v in range(V)]\n",
    "\n",
    "    return Q\n",
    "\n",
    "Q = create_commodity_transformation(V, arcs, consumption, crew_mass, phi, TOF)"
   ],
   "outputs": [],
   "execution_count": 9
  },
  {
   "metadata": {
    "ExecuteTime": {
     "end_time": "2025-02-18T17:30:08.378855Z",
     "start_time": "2025-02-18T17:30:08.310518Z"
    }
   },
   "cell_type": "code",
   "source": [
    "# ADD THE CONSTRAINTS (4)\n",
    "\n",
    "for v in range(V):\n",
    "    for i in arcs:\n",
    "        for j in arcs[i]:\n",
    "            for t in range(T):\n",
    "                for entering, leaving in zip(np.dot(Q[v][i][j], np.concatenate((x_outflow[v][i][j][t],\n",
    "                                                                                np.array([s[v]*y_outflow[v][i][j][t]])), axis=0)),\n",
    "                                             np.concatenate((x_inflow[v][i][j][t], np.array([s[v]*y_inflow[v][i][j][t]])), axis=0)):\n",
    "\n",
    "                    m.addConstr(entering[0] == leaving[0])\n",
    "\n",
    "\n",
    "# m.addConstr(Q[v][i][j] * np.concatenate((x_outflow[v][i][j][t], np.array([s[v]*y_outflow[v][i][j][t]])), axis=0) ==\n",
    "#                             np.concatenate((x_inflow[v][i][j][t], np.array([s[v]*y_inflow[v][i][j][t]])), axis=0))\n",
    "\n",
    "m.update()\n"
   ],
   "outputs": [],
   "execution_count": 10
  },
  {
   "metadata": {
    "ExecuteTime": {
     "end_time": "2025-02-18T18:41:22.155252Z",
     "start_time": "2025-02-18T18:41:22.150836Z"
    }
   },
   "cell_type": "code",
   "source": [
    "# CONSTRAINTS 5\n",
    "\n",
    "# Concurrency constraint matrix\n",
    "# H[x+] <= e * y+ --> Payload mass and fuel in s/c does not exceed maximum capacities\n",
    "# x = Crew, consumables, equipment, samples, propellant\n",
    "\n",
    "# def create_concurrency_constraint(V, arcs, crew_mass): # Different vehicles version --> Has to be different!!\n",
    "#     H = [[{j: np.array([[crew_mass, 1, 1, 1, 0],\n",
    "#                         [0, 0, 0, 0, 1]])\n",
    "#            for j in arcs[i]}\n",
    "#           for i in arcs]\n",
    "#          for v in range(V)]\n",
    "#\n",
    "#     return H\n",
    "\n",
    "\n",
    "def create_concurrency_constraint(arcs, crew_mass): # Same for all vehicles\n",
    "    H = [{j: np.array([[crew_mass, 1, 1, 1, 0],\n",
    "                        [0, 0, 0, 0, 1]])\n",
    "           for j in arcs[i]}\n",
    "          for i in arcs]\n",
    "    return H\n",
    "\n",
    "\n",
    "def create_sc_design_parameters(V, C, M):\n",
    "    e = [np.array([[C[v]], [M[v]]]) for v in range(V)]\n",
    "    return e\n",
    "\n",
    "\n",
    "H = create_concurrency_constraint(arcs, crew_mass)\n",
    "e = create_sc_design_parameters(V, C, M)"
   ],
   "outputs": [],
   "execution_count": 13
  },
  {
   "cell_type": "code",
   "metadata": {},
   "source": [
    "# # EQUATION 7 CONSTRAINTS\n",
    "#\n",
    "# # Structural Fraction (fuel dependent)\n",
    "# alpha = 0.045  # LOX/kerosene\n",
    "#\n",
    "# # Gravitational Acceleration Earth\n",
    "# g_0 = 9.8  # m/s2\n",
    "#\n",
    "# # Upper Bound Allowed for Propellant Tank Capacity\n",
    "# M_ub = 500000  # kg\n",
    "#\n",
    "# # Spacecraft Impulsive Burn\n",
    "# t_b = 120  # s\n",
    "#\n",
    "#\n",
    "# # Structure Mass Variable\n",
    "# def create_s_star_variables(model, v=V):\n",
    "#     variables = {}\n",
    "#     for v in range(V):\n",
    "#         variables[v] = model.addVar(vtype=GRB.CONTINUOUS, name=f'Structure_Mass_{v}')\n",
    "#     return variables\n",
    "#\n",
    "#\n",
    "# s_star = create_s_star_variables(model=m)\n",
    "#\n",
    "# m.update()"
   ],
   "outputs": [],
   "execution_count": null
  },
  {
   "cell_type": "code",
   "metadata": {},
   "source": [
    "# # CONSTRAINTS 7\n",
    "#\n",
    "# for v in tqdm(V):\n",
    "#     m.addConstr(s_star[v] = 2.3931 * )"
   ],
   "outputs": [],
   "execution_count": null
  }
 ],
 "metadata": {
  "kernelspec": {
   "display_name": "AE4441-16",
   "language": "python",
   "name": "python3"
  },
  "language_info": {
   "codemirror_mode": {
    "name": "ipython",
    "version": 3
   },
   "file_extension": ".py",
   "mimetype": "text/x-python",
   "name": "python",
   "nbconvert_exporter": "python",
   "pygments_lexer": "ipython3",
   "version": "3.12.7"
  }
 },
 "nbformat": 4,
 "nbformat_minor": 2
}
