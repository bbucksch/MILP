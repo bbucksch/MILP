{
 "cells": [
  {
   "cell_type": "code",
   "metadata": {
    "ExecuteTime": {
     "end_time": "2024-12-05T18:18:17.964969Z",
     "start_time": "2024-12-05T18:18:17.915796Z"
    }
   },
   "source": [
    "import gurobipy as gp\n",
    "from gurobipy import GRB\n",
    "import numpy as np\n",
    "from tqdm import tqdm"
   ],
   "outputs": [],
   "execution_count": 1
  },
  {
   "cell_type": "code",
   "metadata": {
    "ExecuteTime": {
     "end_time": "2024-12-05T18:18:18.501411Z",
     "start_time": "2024-12-05T18:18:18.491703Z"
    }
   },
   "source": [
    "# Create Model\n",
    "m = gp.Model(\"Model_1\")"
   ],
   "outputs": [
    {
     "name": "stdout",
     "output_type": "stream",
     "text": [
      "Set parameter Username\n",
      "Set parameter LicenseID to value 2595554\n",
      "Academic license - for non-commercial use only - expires 2025-12-04\n"
     ]
    }
   ],
   "execution_count": 2
  },
  {
   "cell_type": "code",
   "metadata": {
    "ExecuteTime": {
     "end_time": "2024-12-05T18:18:19.137219Z",
     "start_time": "2024-12-05T18:18:19.132455Z"
    }
   },
   "source": [
    "# GENERAL PARAMETERS\n",
    "\n",
    "# Number of vehicle types\n",
    "V = 6\n",
    "\n",
    "# Number of nodes i,j\n",
    "nodes = 4\n",
    "\n",
    "# I, J = nodes, nodes\n",
    "arcs = {i: [j for j in range(nodes) if abs(i - j) <= 1] for i in range(nodes)}\n",
    "\n",
    "# Time Steps (days)\n",
    "T = 11\n",
    "\n",
    "# Commodity variable types\n",
    "X = [GRB.INTEGER, GRB.CONTINUOUS, GRB.CONTINUOUS, GRB.CONTINUOUS, GRB.CONTINUOUS]\n",
    "# Crew, consumables, equipment, samples, propellant\n",
    "\n",
    "Y = GRB.INTEGER\n",
    "# Spacecrafts of same type"
   ],
   "outputs": [],
   "execution_count": 3
  },
  {
   "metadata": {
    "ExecuteTime": {
     "end_time": "2024-12-05T18:18:27.082236Z",
     "start_time": "2024-12-05T18:18:27.079125Z"
    }
   },
   "cell_type": "code",
   "source": [
    "# ASSUMPTIONS\n",
    "\n",
    "# Consumption rates [kg/crew/day]\n",
    "food_consumption = 1.015\n",
    "water_consumption = 6.37\n",
    "oxygen_consumption = 1.18\n",
    "consumption = food_consumption + water_consumption + oxygen_consumption\n",
    "\n",
    "# Crew mass [kg/crew]\n",
    "crew_mass = 100\n",
    "\n",
    "# Gravitational acceleration [m/sˆ2]\n",
    "g_0 = 9.8\n"
   ],
   "outputs": [],
   "execution_count": 5
  },
  {
   "metadata": {
    "ExecuteTime": {
     "end_time": "2024-12-05T18:18:28.613202Z",
     "start_time": "2024-12-05T18:18:28.609635Z"
    }
   },
   "cell_type": "code",
   "source": [
    "# VEHICLE DATA\n",
    "\n",
    "# Structure mass [kg]\n",
    "s = np.array([38415, 12014, 4841, 6053, 2770, 1719])\n",
    "\n",
    "# Specific impulses [s]\n",
    "I_sp = np.array([421, 421, 0, 314, 311, 311])\n",
    "\n",
    "# Payload Capacity [kg]\n",
    "C = np.array([0, 0, 524, 60, 500, 250])\n",
    "\n",
    "# Propellant Capacity [kg]\n",
    "M = np.array([452045, 107725, 0, 18413, 8804, 2358])\n"
   ],
   "outputs": [],
   "execution_count": 6
  },
  {
   "metadata": {
    "ExecuteTime": {
     "end_time": "2024-12-05T18:18:33.967855Z",
     "start_time": "2024-12-05T18:18:33.963035Z"
    }
   },
   "cell_type": "code",
   "source": [
    "# DISPLACEMENT DATA\n",
    "\n",
    "# Velocity change [km/s]\n",
    "# PAC, LEO, LLO, LS are 0, 1, 2, 3\n",
    "delta_V = {0: {0: 0, 1: 0}, 1: {0: 0, 1: 0, 2: 4.04}, 2: {1: 4.04, 2: 0, 3: 1.87}, 3: {2: 1.87, 3: 0}}\n",
    "\n",
    "# Time of fare [days]\n",
    "TOF = {0: {0: 1, 1: 1}, 1: {0: 1, 1: 1, 2: 3}, 2: {1: 3, 2: 1, 3: 1}, 3: {2: 1, 3: 1}}\n",
    "\n",
    "# Propellant mass fraction\n",
    "phi = [[{j: 1 - np.exp(-(delta_V[i][j] / (I_sp[v] * g_0))) if I_sp[v] != 0 else 1 for j in arcs[i]}\n",
    "        for i in arcs]\n",
    "       for v in range(V)]\n"
   ],
   "outputs": [],
   "execution_count": 7
  },
  {
   "metadata": {
    "ExecuteTime": {
     "end_time": "2024-12-05T18:19:06.877239Z",
     "start_time": "2024-12-05T18:19:06.846024Z"
    }
   },
   "cell_type": "code",
   "source": [
    "def create_commodity_flow(model, V, arcs, T, X, direction):\n",
    "    x_flow = [[{j: [np.array([[model.addVar(vtype=X[x], name=f'commodity_{direction}flow_{v},{i},{j},{t},{x}')]\n",
    "                              for x in range(len(X))])\n",
    "                    for t in range(T)]\n",
    "                for j in arcs[i]}\n",
    "               for i in arcs]\n",
    "              for v in range(V)]\n",
    "\n",
    "    return x_flow\n",
    "\n",
    "\n",
    "def create_sc_commodity_flow(model, V, arcs, T, Y, direction):\n",
    "    y_flow = [\n",
    "        [{j: [np.array([model.addVar(vtype=Y, name=f'sc_commodity_{direction}flow_{v},{i},{j},{t}')]) for t in range(T)]\n",
    "          for j in arcs[i]}\n",
    "         for i in arcs]\n",
    "        for v in range(V)]\n",
    "\n",
    "    return y_flow\n",
    "\n",
    "\n",
    "x_outflow, x_inflow = create_commodity_flow(m, V, arcs, T, X, \"out\"), create_commodity_flow(m, V, arcs, T, X, \"in\")\n",
    "y_outflow, y_inflow = create_sc_commodity_flow(m, V, arcs, T, Y, \"out\"), create_sc_commodity_flow(m, V, arcs, T, Y,\n",
    "                                                                                                  \"in\")\n",
    "\n",
    "m.update()\n"
   ],
   "outputs": [],
   "execution_count": 9
  },
  {
   "cell_type": "code",
   "metadata": {},
   "source": [
    "# # Create commodity flow variables and add them to model\n",
    "# def create_add_commodity_flow(model, V=V, I=I, J=J, T=T):\n",
    "#     x_outflow, x_inflow = {}, {}\n",
    "#     for v, i, j, t in tqdm([(v, i, j, t) for v in range(V) for i in range(I) for j in range(J) for t in range(T)]):\n",
    "#         x_outflow[0, v, i, j, t] = model.addVar(vtype=GRB.INTEGER, name='commodity_outflow_crew')  # Different names??\n",
    "#         x_inflow[0, v, i, j, t] = model.addVar(vtype=GRB.INTEGER, name='commodity_inflow_crew')\n",
    "#     for v, i, j, t in tqdm([(v, i, j, t) for v in range(V) for i in range(I) for j in range(J) for t in range(T)]):\n",
    "#         x_outflow[1, v, i, j, t] = model.addVar(vtype=GRB.CONTINUOUS, name='commodity_outflow_equipment')\n",
    "#         x_inflow[1, v, i, j, t] = model.addVar(vtype=GRB.CONTINUOUS, name='commodity_inflow_equipment')\n",
    "#     for v, i, j, t in tqdm([(v, i, j, t) for v in range(V) for i in range(I) for j in range(J) for t in range(T)]):\n",
    "#         x_outflow[2, v, i, j, t] = model.addVar(vtype=GRB.CONTINUOUS, name='commodity_outflow_samples')\n",
    "#         x_inflow[2, v, i, j, t] = model.addVar(vtype=GRB.CONTINUOUS, name='commodity_inflow_samples')\n",
    "#     for v, i, j, t in tqdm([(v, i, j, t) for v in range(V) for i in range(I) for j in range(J) for t in range(T)]):\n",
    "#         x_outflow[3, v, i, j, t] = model.addVar(vtype=GRB.CONTINUOUS, name='commodity_outflow_consumables')\n",
    "#         x_inflow[3, v, i, j, t] = model.addVar(vtype=GRB.CONTINUOUS, name='commodity_inflow_consumables')\n",
    "#     for v, i, j, t in tqdm([(v, i, j, t) for v in range(V) for i in range(I) for j in range(J) for t in range(T)]):\n",
    "#         x_outflow[4, v, i, j, t] = model.addVar(vtype=GRB.CONTINUOUS, name='commodity_outflow_propellant')\n",
    "#         x_inflow[4, v, i, j, t] = model.addVar(vtype=GRB.CONTINUOUS, name='commodity_inflow_propellant')\n",
    "#     return x_outflow, x_inflow\n",
    "#\n",
    "#\n",
    "# x_outflow, x_inflow = create_add_commodity_flow(model=m)\n",
    "#\n",
    "#\n",
    "# # Create number of spacecraft flow variables and add them to model\n",
    "# def create_add_number_spacecraft_per_arc(model, V=V, I=I, J=J, T=T):\n",
    "#     y_outflow, y_inflow = {}, {}\n",
    "#     for v, i, j, t in tqdm([(v, i, j, t) for v in range(V) for i in range(I) for j in range(J) for t in range(T)]):\n",
    "#         y_outflow[v, i, j, t] = model.addVar(vtype=GRB.INTEGER, name=f\"spacecraft_ouflow_{v}{i}{j}{t}\")\n",
    "#         y_inflow[v, i, j, t] = model.addVar(vtype=GRB.INTEGER, name=f\"spacecraft_inflow_{v}{i}{j}{t}\")\n",
    "#     return y_outflow, y_inflow\n",
    "#\n",
    "#\n",
    "# y_outflow, y_inflow = create_add_number_spacecraft_per_arc(model=m)\n",
    "#\n",
    "# m.update()  #??"
   ],
   "outputs": [],
   "execution_count": null
  },
  {
   "metadata": {
    "ExecuteTime": {
     "end_time": "2024-12-05T18:31:43.461663Z",
     "start_time": "2024-12-05T18:31:43.448631Z"
    }
   },
   "cell_type": "code",
   "source": [
    "# CONSTRAINTS 4\n",
    "\n",
    "# Commodity transformation matrix\n",
    "\n",
    "def create_commodity_transformation(V, arcs):\n",
    "    Q = [[[np.matrix(f\"1 0 0 0 0 0; 0 1 0 0 0 0; 0 0 1 0 0 0; \"\n",
    "                     f\"{consumption * TOF[i][j]} 0 0 1 0 0; \"\n",
    "                     f\"{crew_mass * -phi[v][i][j]} {-phi[v][i][j]} {-phi[v][i][j]} {-phi[v][i][j]} {1 - phi[v][i][j]} {-phi[v][i][j]};\"\n",
    "                     f\"0 0 0 0 0 1\") for j in arcs[i]] for i in arcs] for v in range(V)]\n",
    "\n",
    "    return Q\n",
    "\n",
    "Q = create_commodity_transformation(V, arcs)"
   ],
   "outputs": [],
   "execution_count": 14
  },
  {
   "metadata": {
    "ExecuteTime": {
     "end_time": "2024-12-05T18:54:02.671047Z",
     "start_time": "2024-12-05T18:54:02.667489Z"
    }
   },
   "cell_type": "code",
   "source": [
    "a = np.array([[1], [2]])\n",
    "b = np.array([[3]])\n",
    "print(np.concatenate((a,b), axis=0))"
   ],
   "outputs": [
    {
     "name": "stdout",
     "output_type": "stream",
     "text": [
      "[[1]\n",
      " [2]\n",
      " [3]]\n"
     ]
    }
   ],
   "execution_count": 41
  },
  {
   "metadata": {
    "ExecuteTime": {
     "end_time": "2024-12-05T18:44:15.537846Z",
     "start_time": "2024-12-05T18:44:15.535531Z"
    }
   },
   "cell_type": "code",
   "source": "print(type(x_outflow[0][0][0][0][0]))",
   "outputs": [
    {
     "name": "stdout",
     "output_type": "stream",
     "text": [
      "[<gurobi.Var commodity_outflow_0,0,0,0,0>]\n"
     ]
    }
   ],
   "execution_count": 21
  },
  {
   "metadata": {
    "ExecuteTime": {
     "end_time": "2024-12-05T18:58:10.725577Z",
     "start_time": "2024-12-05T18:58:10.700562Z"
    }
   },
   "cell_type": "code",
   "source": [
    "# ADD THE CONSTRAINTS\n",
    "\n",
    "\n",
    "\n",
    "for v in range(V):\n",
    "    for i in arcs:\n",
    "        for j in arcs[i]:\n",
    "            for t in range(T):\n",
    "                m.addConstr(Q[v][i][j] * np.concatenate((x_outflow[v][i][j][t], np.array([s[v]*y_outflow[v][i][j][t]])), axis=0) ==\n",
    "                            np.concatenate((x_inflow[v][i][j][t], np.array([s[v]*y_inflow[v][i][j][t]])), axis=0))\n",
    "\n",
    "m.update()\n"
   ],
   "outputs": [
    {
     "ename": "GurobiError",
     "evalue": "Constraint has no bool value (are you trying \"lb <= expr <= ub\"?)",
     "output_type": "error",
     "traceback": [
      "\u001B[0;31m---------------------------------------------------------------------------\u001B[0m",
      "\u001B[0;31mGurobiError\u001B[0m                               Traceback (most recent call last)",
      "Cell \u001B[0;32mIn[42], line 9\u001B[0m\n\u001B[1;32m      7\u001B[0m         \u001B[38;5;28;01mfor\u001B[39;00m j \u001B[38;5;129;01min\u001B[39;00m arcs[i]:\n\u001B[1;32m      8\u001B[0m             \u001B[38;5;28;01mfor\u001B[39;00m t \u001B[38;5;129;01min\u001B[39;00m \u001B[38;5;28mrange\u001B[39m(T):\n\u001B[0;32m----> 9\u001B[0m                 m\u001B[38;5;241m.\u001B[39maddConstr(\u001B[43mQ\u001B[49m\u001B[43m[\u001B[49m\u001B[43mv\u001B[49m\u001B[43m]\u001B[49m\u001B[43m[\u001B[49m\u001B[43mi\u001B[49m\u001B[43m]\u001B[49m\u001B[43m[\u001B[49m\u001B[43mj\u001B[49m\u001B[43m]\u001B[49m\u001B[43m \u001B[49m\u001B[38;5;241;43m*\u001B[39;49m\u001B[43m \u001B[49m\u001B[43mnp\u001B[49m\u001B[38;5;241;43m.\u001B[39;49m\u001B[43mconcatenate\u001B[49m\u001B[43m(\u001B[49m\u001B[43m(\u001B[49m\u001B[43mx_outflow\u001B[49m\u001B[43m[\u001B[49m\u001B[43mv\u001B[49m\u001B[43m]\u001B[49m\u001B[43m[\u001B[49m\u001B[43mi\u001B[49m\u001B[43m]\u001B[49m\u001B[43m[\u001B[49m\u001B[43mj\u001B[49m\u001B[43m]\u001B[49m\u001B[43m[\u001B[49m\u001B[43mt\u001B[49m\u001B[43m]\u001B[49m\u001B[43m,\u001B[49m\u001B[43m \u001B[49m\u001B[43mnp\u001B[49m\u001B[38;5;241;43m.\u001B[39;49m\u001B[43marray\u001B[49m\u001B[43m(\u001B[49m\u001B[43m[\u001B[49m\u001B[43ms\u001B[49m\u001B[43m[\u001B[49m\u001B[43mv\u001B[49m\u001B[43m]\u001B[49m\u001B[38;5;241;43m*\u001B[39;49m\u001B[43my_outflow\u001B[49m\u001B[43m[\u001B[49m\u001B[43mv\u001B[49m\u001B[43m]\u001B[49m\u001B[43m[\u001B[49m\u001B[43mi\u001B[49m\u001B[43m]\u001B[49m\u001B[43m[\u001B[49m\u001B[43mj\u001B[49m\u001B[43m]\u001B[49m\u001B[43m[\u001B[49m\u001B[43mt\u001B[49m\u001B[43m]\u001B[49m\u001B[43m]\u001B[49m\u001B[43m)\u001B[49m\u001B[43m)\u001B[49m\u001B[43m,\u001B[49m\u001B[43m \u001B[49m\u001B[43maxis\u001B[49m\u001B[38;5;241;43m=\u001B[39;49m\u001B[38;5;241;43m0\u001B[39;49m\u001B[43m)\u001B[49m\u001B[43m \u001B[49m\u001B[38;5;241;43m==\u001B[39;49m\n\u001B[1;32m     10\u001B[0m \u001B[43m                            \u001B[49m\u001B[43mnp\u001B[49m\u001B[38;5;241;43m.\u001B[39;49m\u001B[43mconcatenate\u001B[49m\u001B[43m(\u001B[49m\u001B[43m(\u001B[49m\u001B[43mx_inflow\u001B[49m\u001B[43m[\u001B[49m\u001B[43mv\u001B[49m\u001B[43m]\u001B[49m\u001B[43m[\u001B[49m\u001B[43mi\u001B[49m\u001B[43m]\u001B[49m\u001B[43m[\u001B[49m\u001B[43mj\u001B[49m\u001B[43m]\u001B[49m\u001B[43m[\u001B[49m\u001B[43mt\u001B[49m\u001B[43m]\u001B[49m\u001B[43m,\u001B[49m\u001B[43m \u001B[49m\u001B[43mnp\u001B[49m\u001B[38;5;241;43m.\u001B[39;49m\u001B[43marray\u001B[49m\u001B[43m(\u001B[49m\u001B[43m[\u001B[49m\u001B[43ms\u001B[49m\u001B[43m[\u001B[49m\u001B[43mv\u001B[49m\u001B[43m]\u001B[49m\u001B[38;5;241;43m*\u001B[39;49m\u001B[43my_inflow\u001B[49m\u001B[43m[\u001B[49m\u001B[43mv\u001B[49m\u001B[43m]\u001B[49m\u001B[43m[\u001B[49m\u001B[43mi\u001B[49m\u001B[43m]\u001B[49m\u001B[43m[\u001B[49m\u001B[43mj\u001B[49m\u001B[43m]\u001B[49m\u001B[43m[\u001B[49m\u001B[43mt\u001B[49m\u001B[43m]\u001B[49m\u001B[43m]\u001B[49m\u001B[43m)\u001B[49m\u001B[43m)\u001B[49m\u001B[43m,\u001B[49m\u001B[43m \u001B[49m\u001B[43maxis\u001B[49m\u001B[38;5;241;43m=\u001B[39;49m\u001B[38;5;241;43m0\u001B[39;49m\u001B[43m)\u001B[49m)\n\u001B[1;32m     12\u001B[0m m\u001B[38;5;241m.\u001B[39mupdate()\n",
      "File \u001B[0;32msrc/gurobipy/tempconstr.pxi:64\u001B[0m, in \u001B[0;36mgurobipy._core.TempConstr.__bool__\u001B[0;34m()\u001B[0m\n",
      "\u001B[0;31mGurobiError\u001B[0m: Constraint has no bool value (are you trying \"lb <= expr <= ub\"?)"
     ]
    }
   ],
   "execution_count": 42
  },
  {
   "cell_type": "code",
   "metadata": {},
   "source": [
    "# CONSTRAINTS 5\n",
    "\n",
    "# Concurrency Matrix\n",
    "H = np.matrix(\"1 1 1 1 0 ; 0 0 0 0 1\")  # Crew not in kg??. Is space-craft type invariant(?)\n",
    "\n",
    "# Spacecraft Design Parameters\n",
    "e = np.matrix(\"0 0 524 60 500 250 ; 452045 107725 0 18413 8804 2358\")\n",
    "\n",
    "for v, i, j, t in tqdm([(v, i, j, t) for v in range(V) for i in range(I) for j in range(J) for t in range(T)]):\n",
    "    m.addConstr(\n",
    "        commodity_outflow_vector[0, v, i, j, t] + commodity_outflow_vector[1, v, i, j, t] + commodity_outflow_vector[\n",
    "            2, v, i, j, t] <= e[0, v] * y[v, i, j, t], \"c5_1\")\n",
    "    m.addConstr(commodity_outflow_vector[3, v, i, j, t] <= e[1, v] * y[v, i, j, t], \"c5_2\")\n",
    "m.update()"
   ],
   "outputs": [],
   "execution_count": null
  },
  {
   "cell_type": "code",
   "metadata": {},
   "source": [
    "# EQUATION 7 CONSTRAINTS\n",
    "\n",
    "# Structural Fraction (fuel dependent)\n",
    "alpha = 0.045  # LOX/kerosene\n",
    "\n",
    "# Gravitational Acceleration Earth\n",
    "g_0 = 9.8  # m/s2\n",
    "\n",
    "# Upper Bound Allowed for Propellant Tank Capacity\n",
    "M_ub = 500000  # kg\n",
    "\n",
    "# Spacecraft Impulsive Burn\n",
    "t_b = 120  # s\n",
    "\n",
    "\n",
    "# Structure Mass Variable\n",
    "def create_s_star_variables(model, v=V):\n",
    "    variables = {}\n",
    "    for v in range(V):\n",
    "        variables[v] = model.addVar(vtype=GRB.CONTINUOUS, name=f'Structure_Mass_{v}')\n",
    "    return variables\n",
    "\n",
    "\n",
    "s_star = create_s_star_variables(model=m)\n",
    "\n",
    "m.update()"
   ],
   "outputs": [],
   "execution_count": null
  },
  {
   "cell_type": "code",
   "metadata": {},
   "source": [
    "# CONSTRAINTS 7\n",
    "\n",
    "for v in tqdm(V):\n",
    "    m.addConstr(s_star[v] = 2.3931 * )"
   ],
   "outputs": [],
   "execution_count": null
  }
 ],
 "metadata": {
  "kernelspec": {
   "display_name": "AE4441-16",
   "language": "python",
   "name": "python3"
  },
  "language_info": {
   "codemirror_mode": {
    "name": "ipython",
    "version": 3
   },
   "file_extension": ".py",
   "mimetype": "text/x-python",
   "name": "python",
   "nbconvert_exporter": "python",
   "pygments_lexer": "ipython3",
   "version": "3.12.7"
  }
 },
 "nbformat": 4,
 "nbformat_minor": 2
}
