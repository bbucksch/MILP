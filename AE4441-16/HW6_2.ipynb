{
 "cells": [
  {
   "cell_type": "code",
   "execution_count": 1,
   "metadata": {},
   "outputs": [],
   "source": [
    "import gurobipy as gp\n",
    "from gurobipy import GRB"
   ]
  },
  {
   "cell_type": "code",
   "execution_count": 2,
   "metadata": {},
   "outputs": [
    {
     "name": "stdout",
     "output_type": "stream",
     "text": [
      "Set parameter Username\n",
      "Academic license - for non-commercial use only - expires 2025-10-01\n"
     ]
    }
   ],
   "source": [
    "#Create Model\n",
    "m = gp.Model(\"Model_1\")"
   ]
  },
  {
   "cell_type": "code",
   "execution_count": 3,
   "metadata": {},
   "outputs": [],
   "source": [
    "x1 = m.addVar(vtype=GRB.INTEGER, name='x1')\n",
    "x2 = m.addVar(vtype=GRB.INTEGER, name='x2')\n",
    "x3 = m.addVar(vtype=GRB.INTEGER, name='x3')"
   ]
  },
  {
   "cell_type": "code",
   "execution_count": 9,
   "metadata": {},
   "outputs": [
    {
     "data": {
      "text/plain": [
       "<gurobi.Constr *Awaiting Model Update*>"
      ]
     },
     "execution_count": 9,
     "metadata": {},
     "output_type": "execute_result"
    }
   ],
   "source": [
    "m.addConstr(x1 + x2 + x3 <= 30,\"c1\")\n",
    "m.addConstr(67*x1 + 50*x2 + 35*x3 <= 1500,\"c2\")\n",
    "m.addConstr(5/3*x1 + 4/3*x2 + x3 <= 40,\"c3\")"
   ]
  },
  {
   "cell_type": "code",
   "execution_count": 10,
   "metadata": {},
   "outputs": [],
   "source": [
    "m.setObjective(4.2*x1 + 3*x2 + 2.3*x3, GRB.MAXIMIZE)"
   ]
  },
  {
   "cell_type": "code",
   "execution_count": 11,
   "metadata": {},
   "outputs": [
    {
     "name": "stdout",
     "output_type": "stream",
     "text": [
      "Gurobi Optimizer version 11.0.3 build v11.0.3rc0 (mac64[arm] - Darwin 24.0.0 24A348)\n",
      "\n",
      "CPU model: Apple M1 Pro\n",
      "Thread count: 8 physical cores, 8 logical processors, using up to 8 threads\n",
      "\n",
      "Optimize a model with 3 rows, 3 columns and 9 nonzeros\n",
      "Model fingerprint: 0x3e212f3f\n",
      "Variable types: 0 continuous, 3 integer (0 binary)\n",
      "Coefficient statistics:\n",
      "  Matrix range     [1e+00, 7e+01]\n",
      "  Objective range  [2e+00, 4e+00]\n",
      "  Bounds range     [0e+00, 0e+00]\n",
      "  RHS range        [3e+01, 2e+03]\n",
      "Found heuristic solution: objective 92.4000000\n",
      "Presolve time: 0.00s\n",
      "Presolved: 3 rows, 3 columns, 9 nonzeros\n",
      "Variable types: 0 continuous, 3 integer (0 binary)\n",
      "\n",
      "Root relaxation: objective 9.571875e+01, 5 iterations, 0.00 seconds (0.00 work units)\n",
      "\n",
      "    Nodes    |    Current Node    |     Objective Bounds      |     Work\n",
      " Expl Unexpl |  Obj  Depth IntInf | Incumbent    BestBd   Gap | It/Node Time\n",
      "\n",
      "     0     0   95.71875    0    2   92.40000   95.71875  3.59%     -    0s\n",
      "H    0     0                      95.6000000   95.71875  0.12%     -    0s\n",
      "     0     0   95.71875    0    2   95.60000   95.71875  0.12%     -    0s\n",
      "\n",
      "Explored 1 nodes (5 simplex iterations) in 0.01 seconds (0.00 work units)\n",
      "Thread count was 8 (of 8 available processors)\n",
      "\n",
      "Solution count 2: 95.6 92.4 \n",
      "\n",
      "Optimal solution found (tolerance 1.00e-04)\n",
      "Best objective 9.560000000000e+01, best bound 9.560000000000e+01, gap 0.0000%\n"
     ]
    }
   ],
   "source": [
    "m.optimize()"
   ]
  },
  {
   "cell_type": "code",
   "execution_count": 14,
   "metadata": {},
   "outputs": [
    {
     "name": "stdout",
     "output_type": "stream",
     "text": [
      "x1 14\n",
      "x2 0\n",
      "x3 16\n"
     ]
    }
   ],
   "source": [
    "for v in m.getVars():\n",
    "    print('%s %g' % (v.VarName, v.X))"
   ]
  },
  {
   "cell_type": "code",
   "execution_count": 15,
   "metadata": {},
   "outputs": [
    {
     "name": "stdout",
     "output_type": "stream",
     "text": [
      "Obj: 95.6\n"
     ]
    }
   ],
   "source": [
    "print('Obj: %g' % m.ObjVal)"
   ]
  },
  {
   "cell_type": "code",
   "execution_count": 16,
   "metadata": {},
   "outputs": [],
   "source": [
    "m2 = gp.Model(\"m2\")"
   ]
  },
  {
   "cell_type": "code",
   "execution_count": 25,
   "metadata": {},
   "outputs": [],
   "source": [
    "g1 = m2.addVar(vtype=GRB.INTEGER, name=\"g1\")\n",
    "g2 = m2.addVar(vtype=GRB.INTEGER, name=\"g2\")\n",
    "g3 = m2.addVar(vtype=GRB.INTEGER, name=\"g3\")\n",
    "y1 = m2.addVar(vtype=GRB.BINARY, name=\"y1\")\n",
    "y2 = m2.addVar(vtype=GRB.BINARY, name=\"y2\")"
   ]
  },
  {
   "cell_type": "code",
   "execution_count": 26,
   "metadata": {},
   "outputs": [
    {
     "data": {
      "text/plain": [
       "<gurobi.Constr *Awaiting Model Update*>"
      ]
     },
     "execution_count": 26,
     "metadata": {},
     "output_type": "execute_result"
    }
   ],
   "source": [
    "m2.addConstr(0.2*g1 + 0.4*g2 + 0.2*g3 <= 1, \"c1\")\n",
    "m2.addConstr(g1 <= 3*y1, \"c2\")\n",
    "m2.addConstr(g2 <= 2*y2, \"c3\")"
   ]
  },
  {
   "cell_type": "code",
   "execution_count": 27,
   "metadata": {},
   "outputs": [],
   "source": [
    "m2.setObjective(2*g1 + 3*g2 + 0.8*g3 - 3*y1 - 2*y2, GRB.MAXIMIZE)"
   ]
  },
  {
   "cell_type": "code",
   "execution_count": 28,
   "metadata": {},
   "outputs": [
    {
     "name": "stdout",
     "output_type": "stream",
     "text": [
      "Gurobi Optimizer version 11.0.3 build v11.0.3rc0 (mac64[arm] - Darwin 24.0.0 24A348)\n",
      "\n",
      "CPU model: Apple M1 Pro\n",
      "Thread count: 8 physical cores, 8 logical processors, using up to 8 threads\n",
      "\n",
      "Optimize a model with 6 rows, 18 columns and 14 nonzeros\n",
      "Model fingerprint: 0xcd392e56\n",
      "Variable types: 0 continuous, 18 integer (2 binary)\n",
      "Coefficient statistics:\n",
      "  Matrix range     [2e-01, 3e+00]\n",
      "  Objective range  [8e-01, 3e+00]\n",
      "  Bounds range     [1e+00, 1e+00]\n",
      "  RHS range        [1e+00, 1e+00]\n",
      "\n",
      "MIP start from previous solve produced solution with objective 3 (0.00s)\n",
      "MIP start from previous solve produced solution with objective 4.8 (0.00s)\n",
      "Loaded MIP start from previous solve with objective 4.8\n",
      "\n",
      "Presolve removed 3 rows and 13 columns\n",
      "Presolve time: 0.00s\n",
      "Presolved: 3 rows, 5 columns, 7 nonzeros\n",
      "Variable types: 0 continuous, 5 integer (2 binary)\n",
      "\n",
      "Root relaxation: objective 5.000000e+00, 2 iterations, 0.00 seconds (0.00 work units)\n",
      "\n",
      "    Nodes    |    Current Node    |     Objective Bounds      |     Work\n",
      " Expl Unexpl |  Obj  Depth IntInf | Incumbent    BestBd   Gap | It/Node Time\n",
      "\n",
      "     0     0 infeasible    0         4.80000    4.80000  0.00%     -    0s\n",
      "\n",
      "Explored 1 nodes (2 simplex iterations) in 0.01 seconds (0.00 work units)\n",
      "Thread count was 8 (of 8 available processors)\n",
      "\n",
      "Solution count 2: 4.8 3 \n",
      "\n",
      "Optimal solution found (tolerance 1.00e-04)\n",
      "Best objective 4.800000000000e+00, best bound 4.800000000000e+00, gap 0.0000%\n"
     ]
    }
   ],
   "source": [
    "m2.optimize()"
   ]
  },
  {
   "cell_type": "code",
   "execution_count": 30,
   "metadata": {},
   "outputs": [
    {
     "name": "stdout",
     "output_type": "stream",
     "text": [
      "x1, 14\n",
      "x2, 0\n",
      "x3, 16\n"
     ]
    }
   ],
   "source": [
    "for v in m.getVars():\n",
    "    print(f\"{v.VarName}, {int(v.X)}\")"
   ]
  },
  {
   "cell_type": "code",
   "execution_count": 35,
   "metadata": {},
   "outputs": [
    {
     "name": "stdout",
     "output_type": "stream",
     "text": [
      "Objective: 95.6\n"
     ]
    }
   ],
   "source": [
    "print(f\"Objective: {m.ObjVal}\")"
   ]
  },
  {
   "cell_type": "code",
   "execution_count": null,
   "metadata": {},
   "outputs": [],
   "source": []
  }
 ],
 "metadata": {
  "kernelspec": {
   "display_name": "AE4441-16",
   "language": "python",
   "name": "python3"
  },
  "language_info": {
   "codemirror_mode": {
    "name": "ipython",
    "version": 3
   },
   "file_extension": ".py",
   "mimetype": "text/x-python",
   "name": "python",
   "nbconvert_exporter": "python",
   "pygments_lexer": "ipython3",
   "version": "3.12.7"
  }
 },
 "nbformat": 4,
 "nbformat_minor": 2
}
