{
 "cells": [
  {
   "cell_type": "code",
   "execution_count": 117,
   "metadata": {},
   "outputs": [],
   "source": [
    "import gurobipy as gp\n",
    "from gurobipy import GRB\n",
    "import numpy as np\n",
    "from tqdm import tqdm"
   ]
  },
  {
   "cell_type": "code",
   "execution_count": 118,
   "metadata": {},
   "outputs": [],
   "source": [
    "# Create Model\n",
    "m = gp.Model(\"Model_1\")"
   ]
  },
  {
   "cell_type": "code",
   "execution_count": 119,
   "metadata": {},
   "outputs": [],
   "source": [
    "# GENERAL PARAMETERS\n",
    "\n",
    "# Number of vehicles\n",
    "V = 6\n",
    "# Number of nodes i,j\n",
    "nodes = 4\n",
    "I = nodes\n",
    "J = nodes\n",
    "# Time Steps (days)\n",
    "T = 11"
   ]
  },
  {
   "cell_type": "code",
   "execution_count": 120,
   "metadata": {},
   "outputs": [
    {
     "name": "stderr",
     "output_type": "stream",
     "text": [
      "100%|██████████| 1056/1056 [00:00<00:00, 592612.39it/s]\n",
      "100%|██████████| 1056/1056 [00:00<00:00, 636834.65it/s]\n",
      "100%|██████████| 1056/1056 [00:00<00:00, 493008.13it/s]\n",
      "100%|██████████| 1056/1056 [00:00<00:00, 572690.07it/s]\n",
      "100%|██████████| 1056/1056 [00:00<00:00, 479972.37it/s]\n"
     ]
    }
   ],
   "source": [
    "# EQUATION 5 CONSTRAINTS\n",
    "\n",
    "# Concurrency Matrix\n",
    "H = np.matrix(\"1 1 1 0 ; 0 0 0 1\")\n",
    "\n",
    "# Spacecraft Design Parameters\n",
    "e = np.matrix(\"0 0 524 60 500 250 ; 452045 107725 0 18413 8804 2358\")\n",
    "\n",
    "# Create commodity outflow variables and add them to model\n",
    "def create_add_commodity_outflow(model, V=V, I=I, J=J, T=T):\n",
    "    variables = {}\n",
    "    for v, i, j, t in tqdm([(v, i, j, t) for v in range(V) for i in range(I) for j in range(J) for t in range(T)]):\n",
    "        variables[0, v, i, j, t] = model.addVar(vtype=GRB.CONTINUOUS, name='commodity_outflow_payload')\n",
    "    for v, i, j, t in tqdm([(v, i, j, t) for v in range(V) for i in range(I) for j in range(J) for t in range(T)]):\n",
    "        variables[1, v, i, j, t] = model.addVar(vtype=GRB.CONTINUOUS, name='commodity_outflow_crew')\n",
    "    for v, i, j, t in tqdm([(v, i, j, t) for v in range(V) for i in range(I) for j in range(J) for t in range(T)]):\n",
    "        variables[2, v, i, j, t] = model.addVar(vtype=GRB.CONTINUOUS, name='commodity_outflow_consumables')\n",
    "    for v, i, j, t in tqdm([(v, i, j, t) for v in range(V) for i in range(I) for j in range(J) for t in range(T)]):\n",
    "        variables[3, v, i, j, t] = model.addVar(vtype=GRB.CONTINUOUS, name='commodity_outflow_propellant')\n",
    "    return variables\n",
    "\n",
    "commodity_outflow_vector = create_add_commodity_outflow(model=m)\n",
    "\n",
    "# Create number of spacecraft outflow variables and add them to model\n",
    "def create_add_number_spacecraft_per_arc(model, V=V, I=I, J=J, T=T):\n",
    "    variables = {}\n",
    "    for v, i, j, t in tqdm([(v, i, j, t) for v in range(V) for i in range(I) for j in range(J) for t in range(T)]):\n",
    "        variables[v, i, j, t] = model.addVar(vtype=GRB.INTEGER, name=f\"y{v}{i}{j}{t}\")\n",
    "    return variables\n",
    "\n",
    "y = create_add_number_spacecraft_per_arc(model=m)\n",
    "\n",
    "m.update()"
   ]
  },
  {
   "cell_type": "code",
   "execution_count": 121,
   "metadata": {},
   "outputs": [
    {
     "name": "stderr",
     "output_type": "stream",
     "text": [
      "100%|██████████| 1056/1056 [00:00<00:00, 16180.14it/s]\n"
     ]
    }
   ],
   "source": [
    "# CONSTRAINTS 5\n",
    "\n",
    "for v, i, j, t in tqdm([(v, i, j, t) for v in range(V) for i in range(I) for j in range(J) for t in range(T)]):\n",
    "    m.addConstr(commodity_outflow_vector[0,v,i,j,t] + commodity_outflow_vector[1,v,i,j,t] + commodity_outflow_vector[2,v,i,j,t] <= e[0,v] * y[v, i, j, t], \"c5_1\")\n",
    "    m.addConstr(commodity_outflow_vector[3,v,i,j,t] <= e[1,v] * y[v, i, j, t], \"c5_2\")\n",
    "m.update()"
   ]
  },
  {
   "cell_type": "code",
   "execution_count": 131,
   "metadata": {},
   "outputs": [],
   "source": [
    "# EQUATION 7 CONSTRAINTS\n",
    "\n",
    "# Payload Capacity\n",
    "C = [0, 0, 524, 60, 500, 250]\n",
    "\n",
    "# Propellant Capacity\n",
    "M = [452045, 107725, 0, 18413, 8804, 2358]\n",
    "\n",
    "# Structural Fraction (fuel dependent)\n",
    "alpha = 0.045   # LOX/kerosene\n",
    "\n",
    "# Gravitational Acceleration Earth\n",
    "g_0 = 9.8   # m/s2\n",
    "\n",
    "# Upper Bound Allowed for Propellant Tank Capacity\n",
    "M_ub = 500000   # kg\n",
    "\n",
    "# Specific Impulse\n",
    "I_sp = [421, 421, 0, 314, 311, 311]\n",
    "\n",
    "# Spacecraft Impulsive Burn\n",
    "t_b = 120   # s\n",
    "\n",
    "\n",
    "# Structure Mass Variable\n",
    "def create_s_star_variables(model, v=V):\n",
    "    variables = {}\n",
    "    for v in range(V):\n",
    "        variables[v] = model.addVar(vtype=GRB.CONTINUOUS, name=f'Structure_Mass_{v}')\n",
    "    return variables\n",
    "\n",
    "s_star = create_s_star_variables(model = m)\n",
    "\n",
    "m.update()"
   ]
  },
  {
   "cell_type": "code",
   "execution_count": null,
   "metadata": {},
   "outputs": [],
   "source": [
    "# CONSTRAINTS 7\n",
    "\n",
    "for v in tqdm(V):\n",
    "    m.addConstr(s_star[v] = 2.3931 * )"
   ]
  }
 ],
 "metadata": {
  "kernelspec": {
   "display_name": "AE4441-16",
   "language": "python",
   "name": "python3"
  },
  "language_info": {
   "codemirror_mode": {
    "name": "ipython",
    "version": 3
   },
   "file_extension": ".py",
   "mimetype": "text/x-python",
   "name": "python",
   "nbconvert_exporter": "python",
   "pygments_lexer": "ipython3",
   "version": "3.12.7"
  }
 },
 "nbformat": 4,
 "nbformat_minor": 2
}
